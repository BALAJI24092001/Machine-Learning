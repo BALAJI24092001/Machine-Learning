{
 "cells": [
  {
   "cell_type": "markdown",
   "id": "78209477-4f3c-4b29-bb4e-48c251dd212d",
   "metadata": {},
   "source": [
    "## Engine Components"
   ]
  },
  {
   "cell_type": "code",
   "execution_count": null,
   "id": "e97b9689-ddc0-4d21-b482-0be391c3b50e",
   "metadata": {},
   "outputs": [],
   "source": []
  }
 ],
 "metadata": {
  "kernelspec": {
   "display_name": "Python 3 (ipykernel)",
   "language": "python",
   "name": "python3"
  },
  "language_info": {
   "codemirror_mode": {
    "name": "ipython",
    "version": 3
   },
   "file_extension": ".py",
   "mimetype": "text/x-python",
   "name": "python",
   "nbconvert_exporter": "python",
   "pygments_lexer": "ipython3",
   "version": "3.11.9"
  }
 },
 "nbformat": 4,
 "nbformat_minor": 5
}
