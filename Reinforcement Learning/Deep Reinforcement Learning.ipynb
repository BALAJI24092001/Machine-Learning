{
 "cells": [
  {
   "cell_type": "markdown",
   "id": "db5b9a6b-a715-4d46-aef1-2511e58ba068",
   "metadata": {},
   "source": [
    "# Reinforcement Learning"
   ]
  },
  {
   "cell_type": "code",
   "execution_count": 5,
   "id": "092c7b1d-a535-4703-b0af-2be6ca4c2ada",
   "metadata": {},
   "outputs": [],
   "source": [
    "import gym\n",
    "import random"
   ]
  },
  {
   "cell_type": "markdown",
   "id": "ada10f3c-f5af-4e10-be16-bbf2cef3a4af",
   "metadata": {},
   "source": [
    "## Random environment with OpenAI gym"
   ]
  },
  {
   "cell_type": "code",
   "execution_count": 30,
   "id": "615202dd-209b-4474-a8d8-cb7b5caca086",
   "metadata": {},
   "outputs": [],
   "source": [
    "env = gym.make(\"CartPole-v1\")\n",
    "states = env.observation_space.shape[0]\n",
    "actions = env.action_space.n"
   ]
  },
  {
   "cell_type": "code",
   "execution_count": 39,
   "id": "2c8d3393-6a2a-4e7f-a0e3-880057111ef8",
   "metadata": {},
   "outputs": [
    {
     "name": "stdout",
     "output_type": "stream",
     "text": [
      "Episode:1  Score: 10.0\n",
      "Episode:2  Score: 16.0\n",
      "Episode:3  Score: 13.0\n",
      "Episode:4  Score: 26.0\n",
      "Episode:5  Score: 19.0\n",
      "Episode:6  Score: 31.0\n",
      "Episode:7  Score: 12.0\n",
      "Episode:8  Score: 32.0\n",
      "Episode:9  Score: 29.0\n",
      "Episode:10  Score: 13.0\n"
     ]
    }
   ],
   "source": [
    "episodes = 10\n",
    "for episode in range(1, episodes+1):\n",
    "    state = env.reset( )\n",
    "    done = False\n",
    "    score = 0\n",
    "    while not done:\n",
    "        env.render()\n",
    "        action = random.choice([0, 1])\n",
    "        n_state, reward, done, term, info  = env.step(action)\n",
    "        score+=reward\n",
    "    print( \"Episode:{}  Score: {}\".format(episode, score) )"
   ]
  },
  {
   "cell_type": "code",
   "execution_count": null,
   "id": "f6bc21c5-1a91-4648-a381-6b0e33f92b1e",
   "metadata": {},
   "outputs": [],
   "source": []
  }
 ],
 "metadata": {
  "kernelspec": {
   "display_name": "Python 3 (ipykernel)",
   "language": "python",
   "name": "python3"
  },
  "language_info": {
   "codemirror_mode": {
    "name": "ipython",
    "version": 3
   },
   "file_extension": ".py",
   "mimetype": "text/x-python",
   "name": "python",
   "nbconvert_exporter": "python",
   "pygments_lexer": "ipython3",
   "version": "3.11.9"
  }
 },
 "nbformat": 4,
 "nbformat_minor": 5
}
